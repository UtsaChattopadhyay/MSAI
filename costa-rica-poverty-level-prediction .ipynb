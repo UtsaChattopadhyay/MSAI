{
 "cells": [
  {
   "cell_type": "code",
   "execution_count": 1,
   "metadata": {
    "_cell_guid": "b1076dfc-b9ad-4769-8c92-a6c4dae69d19",
    "_uuid": "8f2839f25d086af736a60e9eeb907d3b93b6e0e5",
    "execution": {
     "iopub.execute_input": "2020-10-30T14:55:47.539647Z",
     "iopub.status.busy": "2020-10-30T14:55:47.538909Z",
     "iopub.status.idle": "2020-10-30T14:55:47.542337Z",
     "shell.execute_reply": "2020-10-30T14:55:47.541583Z"
    },
    "papermill": {
     "duration": 0.039902,
     "end_time": "2020-10-30T14:55:47.542458",
     "exception": false,
     "start_time": "2020-10-30T14:55:47.502556",
     "status": "completed"
    },
    "tags": []
   },
   "outputs": [],
   "source": [
    "# This Python 3 environment comes with many helpful analytics libraries installed\n",
    "# It is defined by the kaggle/python Docker image: https://github.com/kaggle/docker-python\n",
    "# For example, here's several helpful packages to load\n",
    "\n",
    "import numpy as np # linear algebra\n",
    "import pandas as pd # data processing, CSV file I/O (e.g. pd.read_csv)\n",
    "\n",
    "# Input data files are available in the read-only \"../input/\" directory\n",
    "# For example, running this (by clicking run or pressing Shift+Enter) will list all files under the input directory\n",
    "\n",
    "import os\n",
    "#for dirname, _, filenames in os.walk('/kaggle/input'):\n",
    "#    for filename in filenames:\n",
    "#        print(os.path.join(dirname, filename))\n",
    "\n",
    "# You can write up to 5GB to the current directory (/kaggle/working/) that gets preserved as output when you create a version using \"Save & Run All\" \n",
    "# You can also write temporary files to /kaggle/temp/, but they won't be saved outside of the current session"
   ]
  },
  {
   "cell_type": "code",
   "execution_count": 2,
   "metadata": {
    "_cell_guid": "79c7e3d0-c299-4dcb-8224-4455121ee9b0",
    "_uuid": "d629ff2d2480ee46fbb7e2d37f6b5fab8052498a",
    "execution": {
     "iopub.execute_input": "2020-10-30T14:55:47.608682Z",
     "iopub.status.busy": "2020-10-30T14:55:47.607922Z",
     "iopub.status.idle": "2020-10-30T14:55:48.248185Z",
     "shell.execute_reply": "2020-10-30T14:55:48.247261Z"
    },
    "papermill": {
     "duration": 0.675016,
     "end_time": "2020-10-30T14:55:48.248373",
     "exception": false,
     "start_time": "2020-10-30T14:55:47.573357",
     "status": "completed"
    },
    "tags": []
   },
   "outputs": [
    {
     "data": {
      "text/html": [
       "<div>\n",
       "<style scoped>\n",
       "    .dataframe tbody tr th:only-of-type {\n",
       "        vertical-align: middle;\n",
       "    }\n",
       "\n",
       "    .dataframe tbody tr th {\n",
       "        vertical-align: top;\n",
       "    }\n",
       "\n",
       "    .dataframe thead th {\n",
       "        text-align: right;\n",
       "    }\n",
       "</style>\n",
       "<table border=\"1\" class=\"dataframe\">\n",
       "  <thead>\n",
       "    <tr style=\"text-align: right;\">\n",
       "      <th></th>\n",
       "      <th>Id</th>\n",
       "      <th>v2a1</th>\n",
       "      <th>hacdor</th>\n",
       "      <th>rooms</th>\n",
       "      <th>hacapo</th>\n",
       "      <th>v14a</th>\n",
       "      <th>refrig</th>\n",
       "      <th>v18q</th>\n",
       "      <th>v18q1</th>\n",
       "      <th>r4h1</th>\n",
       "      <th>...</th>\n",
       "      <th>SQBescolari</th>\n",
       "      <th>SQBage</th>\n",
       "      <th>SQBhogar_total</th>\n",
       "      <th>SQBedjefe</th>\n",
       "      <th>SQBhogar_nin</th>\n",
       "      <th>SQBovercrowding</th>\n",
       "      <th>SQBdependency</th>\n",
       "      <th>SQBmeaned</th>\n",
       "      <th>agesq</th>\n",
       "      <th>Target</th>\n",
       "    </tr>\n",
       "  </thead>\n",
       "  <tbody>\n",
       "    <tr>\n",
       "      <th>0</th>\n",
       "      <td>ID_279628684</td>\n",
       "      <td>190000.0</td>\n",
       "      <td>0</td>\n",
       "      <td>3</td>\n",
       "      <td>0</td>\n",
       "      <td>1</td>\n",
       "      <td>1</td>\n",
       "      <td>0</td>\n",
       "      <td>NaN</td>\n",
       "      <td>0</td>\n",
       "      <td>...</td>\n",
       "      <td>100</td>\n",
       "      <td>1849</td>\n",
       "      <td>1</td>\n",
       "      <td>100</td>\n",
       "      <td>0</td>\n",
       "      <td>1.000000</td>\n",
       "      <td>0.0</td>\n",
       "      <td>100.0</td>\n",
       "      <td>1849</td>\n",
       "      <td>4</td>\n",
       "    </tr>\n",
       "    <tr>\n",
       "      <th>1</th>\n",
       "      <td>ID_f29eb3ddd</td>\n",
       "      <td>135000.0</td>\n",
       "      <td>0</td>\n",
       "      <td>4</td>\n",
       "      <td>0</td>\n",
       "      <td>1</td>\n",
       "      <td>1</td>\n",
       "      <td>1</td>\n",
       "      <td>1.0</td>\n",
       "      <td>0</td>\n",
       "      <td>...</td>\n",
       "      <td>144</td>\n",
       "      <td>4489</td>\n",
       "      <td>1</td>\n",
       "      <td>144</td>\n",
       "      <td>0</td>\n",
       "      <td>1.000000</td>\n",
       "      <td>64.0</td>\n",
       "      <td>144.0</td>\n",
       "      <td>4489</td>\n",
       "      <td>4</td>\n",
       "    </tr>\n",
       "    <tr>\n",
       "      <th>2</th>\n",
       "      <td>ID_68de51c94</td>\n",
       "      <td>NaN</td>\n",
       "      <td>0</td>\n",
       "      <td>8</td>\n",
       "      <td>0</td>\n",
       "      <td>1</td>\n",
       "      <td>1</td>\n",
       "      <td>0</td>\n",
       "      <td>NaN</td>\n",
       "      <td>0</td>\n",
       "      <td>...</td>\n",
       "      <td>121</td>\n",
       "      <td>8464</td>\n",
       "      <td>1</td>\n",
       "      <td>0</td>\n",
       "      <td>0</td>\n",
       "      <td>0.250000</td>\n",
       "      <td>64.0</td>\n",
       "      <td>121.0</td>\n",
       "      <td>8464</td>\n",
       "      <td>4</td>\n",
       "    </tr>\n",
       "    <tr>\n",
       "      <th>3</th>\n",
       "      <td>ID_d671db89c</td>\n",
       "      <td>180000.0</td>\n",
       "      <td>0</td>\n",
       "      <td>5</td>\n",
       "      <td>0</td>\n",
       "      <td>1</td>\n",
       "      <td>1</td>\n",
       "      <td>1</td>\n",
       "      <td>1.0</td>\n",
       "      <td>0</td>\n",
       "      <td>...</td>\n",
       "      <td>81</td>\n",
       "      <td>289</td>\n",
       "      <td>16</td>\n",
       "      <td>121</td>\n",
       "      <td>4</td>\n",
       "      <td>1.777778</td>\n",
       "      <td>1.0</td>\n",
       "      <td>121.0</td>\n",
       "      <td>289</td>\n",
       "      <td>4</td>\n",
       "    </tr>\n",
       "    <tr>\n",
       "      <th>4</th>\n",
       "      <td>ID_d56d6f5f5</td>\n",
       "      <td>180000.0</td>\n",
       "      <td>0</td>\n",
       "      <td>5</td>\n",
       "      <td>0</td>\n",
       "      <td>1</td>\n",
       "      <td>1</td>\n",
       "      <td>1</td>\n",
       "      <td>1.0</td>\n",
       "      <td>0</td>\n",
       "      <td>...</td>\n",
       "      <td>121</td>\n",
       "      <td>1369</td>\n",
       "      <td>16</td>\n",
       "      <td>121</td>\n",
       "      <td>4</td>\n",
       "      <td>1.777778</td>\n",
       "      <td>1.0</td>\n",
       "      <td>121.0</td>\n",
       "      <td>1369</td>\n",
       "      <td>4</td>\n",
       "    </tr>\n",
       "  </tbody>\n",
       "</table>\n",
       "<p>5 rows × 143 columns</p>\n",
       "</div>"
      ],
      "text/plain": [
       "             Id      v2a1  hacdor  rooms  hacapo  v14a  refrig  v18q  v18q1  \\\n",
       "0  ID_279628684  190000.0       0      3       0     1       1     0    NaN   \n",
       "1  ID_f29eb3ddd  135000.0       0      4       0     1       1     1    1.0   \n",
       "2  ID_68de51c94       NaN       0      8       0     1       1     0    NaN   \n",
       "3  ID_d671db89c  180000.0       0      5       0     1       1     1    1.0   \n",
       "4  ID_d56d6f5f5  180000.0       0      5       0     1       1     1    1.0   \n",
       "\n",
       "   r4h1  ...  SQBescolari  SQBage  SQBhogar_total  SQBedjefe  SQBhogar_nin  \\\n",
       "0     0  ...          100    1849               1        100             0   \n",
       "1     0  ...          144    4489               1        144             0   \n",
       "2     0  ...          121    8464               1          0             0   \n",
       "3     0  ...           81     289              16        121             4   \n",
       "4     0  ...          121    1369              16        121             4   \n",
       "\n",
       "   SQBovercrowding  SQBdependency  SQBmeaned  agesq  Target  \n",
       "0         1.000000            0.0      100.0   1849       4  \n",
       "1         1.000000           64.0      144.0   4489       4  \n",
       "2         0.250000           64.0      121.0   8464       4  \n",
       "3         1.777778            1.0      121.0    289       4  \n",
       "4         1.777778            1.0      121.0   1369       4  \n",
       "\n",
       "[5 rows x 143 columns]"
      ]
     },
     "execution_count": 2,
     "metadata": {},
     "output_type": "execute_result"
    }
   ],
   "source": [
    "train = pd.read_csv('/kaggle/input/costa-rican-household-poverty-prediction/train.csv')\n",
    "test = pd.read_csv('/kaggle/input/costa-rican-household-poverty-prediction/test.csv')\n",
    "train.head()"
   ]
  },
  {
   "cell_type": "code",
   "execution_count": 3,
   "metadata": {
    "execution": {
     "iopub.execute_input": "2020-10-30T14:55:48.320057Z",
     "iopub.status.busy": "2020-10-30T14:55:48.319111Z",
     "iopub.status.idle": "2020-10-30T14:55:48.398131Z",
     "shell.execute_reply": "2020-10-30T14:55:48.397448Z"
    },
    "papermill": {
     "duration": 0.114002,
     "end_time": "2020-10-30T14:55:48.398267",
     "exception": false,
     "start_time": "2020-10-30T14:55:48.284265",
     "status": "completed"
    },
    "tags": []
   },
   "outputs": [
    {
     "data": {
      "text/plain": [
       "Index([], dtype='object')"
      ]
     },
     "execution_count": 3,
     "metadata": {},
     "output_type": "execute_result"
    }
   ],
   "source": [
    "test.columns[test.nunique()<2]"
   ]
  },
  {
   "cell_type": "code",
   "execution_count": 4,
   "metadata": {
    "execution": {
     "iopub.execute_input": "2020-10-30T14:55:48.465385Z",
     "iopub.status.busy": "2020-10-30T14:55:48.464510Z",
     "iopub.status.idle": "2020-10-30T14:55:48.468675Z",
     "shell.execute_reply": "2020-10-30T14:55:48.468093Z"
    },
    "papermill": {
     "duration": 0.039943,
     "end_time": "2020-10-30T14:55:48.468830",
     "exception": false,
     "start_time": "2020-10-30T14:55:48.428887",
     "status": "completed"
    },
    "tags": []
   },
   "outputs": [
    {
     "name": "stdout",
     "output_type": "stream",
     "text": [
      "Train set-> Rows and Columns:  (9557, 143)\n",
      "Test set-> Rows and Columns:  (23856, 142)\n"
     ]
    }
   ],
   "source": [
    "print (\"Train set-> Rows and Columns: \", train.shape)\n",
    "print (\"Test set-> Rows and Columns: \", test.shape)"
   ]
  },
  {
   "cell_type": "code",
   "execution_count": 5,
   "metadata": {
    "execution": {
     "iopub.execute_input": "2020-10-30T14:55:48.541801Z",
     "iopub.status.busy": "2020-10-30T14:55:48.541052Z",
     "iopub.status.idle": "2020-10-30T14:55:48.896186Z",
     "shell.execute_reply": "2020-10-30T14:55:48.895445Z"
    },
    "papermill": {
     "duration": 0.396696,
     "end_time": "2020-10-30T14:55:48.896307",
     "exception": false,
     "start_time": "2020-10-30T14:55:48.499611",
     "status": "completed"
    },
    "tags": []
   },
   "outputs": [
    {
     "data": {
      "text/html": [
       "<div>\n",
       "<style scoped>\n",
       "    .dataframe tbody tr th:only-of-type {\n",
       "        vertical-align: middle;\n",
       "    }\n",
       "\n",
       "    .dataframe tbody tr th {\n",
       "        vertical-align: top;\n",
       "    }\n",
       "\n",
       "    .dataframe thead th {\n",
       "        text-align: right;\n",
       "    }\n",
       "</style>\n",
       "<table border=\"1\" class=\"dataframe\">\n",
       "  <thead>\n",
       "    <tr style=\"text-align: right;\">\n",
       "      <th></th>\n",
       "      <th>v2a1</th>\n",
       "      <th>hacdor</th>\n",
       "      <th>rooms</th>\n",
       "      <th>hacapo</th>\n",
       "      <th>v14a</th>\n",
       "      <th>refrig</th>\n",
       "      <th>v18q</th>\n",
       "      <th>v18q1</th>\n",
       "      <th>r4h1</th>\n",
       "      <th>r4h2</th>\n",
       "      <th>...</th>\n",
       "      <th>SQBescolari</th>\n",
       "      <th>SQBage</th>\n",
       "      <th>SQBhogar_total</th>\n",
       "      <th>SQBedjefe</th>\n",
       "      <th>SQBhogar_nin</th>\n",
       "      <th>SQBovercrowding</th>\n",
       "      <th>SQBdependency</th>\n",
       "      <th>SQBmeaned</th>\n",
       "      <th>agesq</th>\n",
       "      <th>Target</th>\n",
       "    </tr>\n",
       "  </thead>\n",
       "  <tbody>\n",
       "    <tr>\n",
       "      <th>count</th>\n",
       "      <td>2.697000e+03</td>\n",
       "      <td>9557.000000</td>\n",
       "      <td>9557.000000</td>\n",
       "      <td>9557.000000</td>\n",
       "      <td>9557.000000</td>\n",
       "      <td>9557.000000</td>\n",
       "      <td>9557.000000</td>\n",
       "      <td>2215.000000</td>\n",
       "      <td>9557.000000</td>\n",
       "      <td>9557.000000</td>\n",
       "      <td>...</td>\n",
       "      <td>9557.000000</td>\n",
       "      <td>9557.000000</td>\n",
       "      <td>9557.000000</td>\n",
       "      <td>9557.000000</td>\n",
       "      <td>9557.000000</td>\n",
       "      <td>9557.000000</td>\n",
       "      <td>9557.000000</td>\n",
       "      <td>9552.000000</td>\n",
       "      <td>9557.000000</td>\n",
       "      <td>9557.000000</td>\n",
       "    </tr>\n",
       "    <tr>\n",
       "      <th>mean</th>\n",
       "      <td>1.652316e+05</td>\n",
       "      <td>0.038087</td>\n",
       "      <td>4.955530</td>\n",
       "      <td>0.023648</td>\n",
       "      <td>0.994768</td>\n",
       "      <td>0.957623</td>\n",
       "      <td>0.231767</td>\n",
       "      <td>1.404063</td>\n",
       "      <td>0.385895</td>\n",
       "      <td>1.559171</td>\n",
       "      <td>...</td>\n",
       "      <td>74.222769</td>\n",
       "      <td>1643.774302</td>\n",
       "      <td>19.132887</td>\n",
       "      <td>53.500262</td>\n",
       "      <td>3.844826</td>\n",
       "      <td>3.249485</td>\n",
       "      <td>3.900409</td>\n",
       "      <td>102.588867</td>\n",
       "      <td>1643.774302</td>\n",
       "      <td>3.302292</td>\n",
       "    </tr>\n",
       "    <tr>\n",
       "      <th>std</th>\n",
       "      <td>1.504571e+05</td>\n",
       "      <td>0.191417</td>\n",
       "      <td>1.468381</td>\n",
       "      <td>0.151957</td>\n",
       "      <td>0.072145</td>\n",
       "      <td>0.201459</td>\n",
       "      <td>0.421983</td>\n",
       "      <td>0.763131</td>\n",
       "      <td>0.680779</td>\n",
       "      <td>1.036574</td>\n",
       "      <td>...</td>\n",
       "      <td>76.777549</td>\n",
       "      <td>1741.197050</td>\n",
       "      <td>18.751395</td>\n",
       "      <td>78.445804</td>\n",
       "      <td>6.946296</td>\n",
       "      <td>4.129547</td>\n",
       "      <td>12.511831</td>\n",
       "      <td>93.516890</td>\n",
       "      <td>1741.197050</td>\n",
       "      <td>1.009565</td>\n",
       "    </tr>\n",
       "    <tr>\n",
       "      <th>min</th>\n",
       "      <td>0.000000e+00</td>\n",
       "      <td>0.000000</td>\n",
       "      <td>1.000000</td>\n",
       "      <td>0.000000</td>\n",
       "      <td>0.000000</td>\n",
       "      <td>0.000000</td>\n",
       "      <td>0.000000</td>\n",
       "      <td>1.000000</td>\n",
       "      <td>0.000000</td>\n",
       "      <td>0.000000</td>\n",
       "      <td>...</td>\n",
       "      <td>0.000000</td>\n",
       "      <td>0.000000</td>\n",
       "      <td>1.000000</td>\n",
       "      <td>0.000000</td>\n",
       "      <td>0.000000</td>\n",
       "      <td>0.040000</td>\n",
       "      <td>0.000000</td>\n",
       "      <td>0.000000</td>\n",
       "      <td>0.000000</td>\n",
       "      <td>1.000000</td>\n",
       "    </tr>\n",
       "    <tr>\n",
       "      <th>25%</th>\n",
       "      <td>8.000000e+04</td>\n",
       "      <td>0.000000</td>\n",
       "      <td>4.000000</td>\n",
       "      <td>0.000000</td>\n",
       "      <td>1.000000</td>\n",
       "      <td>1.000000</td>\n",
       "      <td>0.000000</td>\n",
       "      <td>1.000000</td>\n",
       "      <td>0.000000</td>\n",
       "      <td>1.000000</td>\n",
       "      <td>...</td>\n",
       "      <td>16.000000</td>\n",
       "      <td>289.000000</td>\n",
       "      <td>9.000000</td>\n",
       "      <td>0.000000</td>\n",
       "      <td>0.000000</td>\n",
       "      <td>1.000000</td>\n",
       "      <td>0.111111</td>\n",
       "      <td>36.000000</td>\n",
       "      <td>289.000000</td>\n",
       "      <td>3.000000</td>\n",
       "    </tr>\n",
       "    <tr>\n",
       "      <th>50%</th>\n",
       "      <td>1.300000e+05</td>\n",
       "      <td>0.000000</td>\n",
       "      <td>5.000000</td>\n",
       "      <td>0.000000</td>\n",
       "      <td>1.000000</td>\n",
       "      <td>1.000000</td>\n",
       "      <td>0.000000</td>\n",
       "      <td>1.000000</td>\n",
       "      <td>0.000000</td>\n",
       "      <td>1.000000</td>\n",
       "      <td>...</td>\n",
       "      <td>36.000000</td>\n",
       "      <td>961.000000</td>\n",
       "      <td>16.000000</td>\n",
       "      <td>36.000000</td>\n",
       "      <td>1.000000</td>\n",
       "      <td>2.250000</td>\n",
       "      <td>0.444444</td>\n",
       "      <td>81.000000</td>\n",
       "      <td>961.000000</td>\n",
       "      <td>4.000000</td>\n",
       "    </tr>\n",
       "    <tr>\n",
       "      <th>75%</th>\n",
       "      <td>2.000000e+05</td>\n",
       "      <td>0.000000</td>\n",
       "      <td>6.000000</td>\n",
       "      <td>0.000000</td>\n",
       "      <td>1.000000</td>\n",
       "      <td>1.000000</td>\n",
       "      <td>0.000000</td>\n",
       "      <td>2.000000</td>\n",
       "      <td>1.000000</td>\n",
       "      <td>2.000000</td>\n",
       "      <td>...</td>\n",
       "      <td>121.000000</td>\n",
       "      <td>2601.000000</td>\n",
       "      <td>25.000000</td>\n",
       "      <td>81.000000</td>\n",
       "      <td>4.000000</td>\n",
       "      <td>4.000000</td>\n",
       "      <td>1.777778</td>\n",
       "      <td>134.560010</td>\n",
       "      <td>2601.000000</td>\n",
       "      <td>4.000000</td>\n",
       "    </tr>\n",
       "    <tr>\n",
       "      <th>max</th>\n",
       "      <td>2.353477e+06</td>\n",
       "      <td>1.000000</td>\n",
       "      <td>11.000000</td>\n",
       "      <td>1.000000</td>\n",
       "      <td>1.000000</td>\n",
       "      <td>1.000000</td>\n",
       "      <td>1.000000</td>\n",
       "      <td>6.000000</td>\n",
       "      <td>5.000000</td>\n",
       "      <td>8.000000</td>\n",
       "      <td>...</td>\n",
       "      <td>441.000000</td>\n",
       "      <td>9409.000000</td>\n",
       "      <td>169.000000</td>\n",
       "      <td>441.000000</td>\n",
       "      <td>81.000000</td>\n",
       "      <td>36.000000</td>\n",
       "      <td>64.000000</td>\n",
       "      <td>1369.000000</td>\n",
       "      <td>9409.000000</td>\n",
       "      <td>4.000000</td>\n",
       "    </tr>\n",
       "  </tbody>\n",
       "</table>\n",
       "<p>8 rows × 138 columns</p>\n",
       "</div>"
      ],
      "text/plain": [
       "               v2a1       hacdor        rooms       hacapo         v14a  \\\n",
       "count  2.697000e+03  9557.000000  9557.000000  9557.000000  9557.000000   \n",
       "mean   1.652316e+05     0.038087     4.955530     0.023648     0.994768   \n",
       "std    1.504571e+05     0.191417     1.468381     0.151957     0.072145   \n",
       "min    0.000000e+00     0.000000     1.000000     0.000000     0.000000   \n",
       "25%    8.000000e+04     0.000000     4.000000     0.000000     1.000000   \n",
       "50%    1.300000e+05     0.000000     5.000000     0.000000     1.000000   \n",
       "75%    2.000000e+05     0.000000     6.000000     0.000000     1.000000   \n",
       "max    2.353477e+06     1.000000    11.000000     1.000000     1.000000   \n",
       "\n",
       "            refrig         v18q        v18q1         r4h1         r4h2  ...  \\\n",
       "count  9557.000000  9557.000000  2215.000000  9557.000000  9557.000000  ...   \n",
       "mean      0.957623     0.231767     1.404063     0.385895     1.559171  ...   \n",
       "std       0.201459     0.421983     0.763131     0.680779     1.036574  ...   \n",
       "min       0.000000     0.000000     1.000000     0.000000     0.000000  ...   \n",
       "25%       1.000000     0.000000     1.000000     0.000000     1.000000  ...   \n",
       "50%       1.000000     0.000000     1.000000     0.000000     1.000000  ...   \n",
       "75%       1.000000     0.000000     2.000000     1.000000     2.000000  ...   \n",
       "max       1.000000     1.000000     6.000000     5.000000     8.000000  ...   \n",
       "\n",
       "       SQBescolari       SQBage  SQBhogar_total    SQBedjefe  SQBhogar_nin  \\\n",
       "count  9557.000000  9557.000000     9557.000000  9557.000000   9557.000000   \n",
       "mean     74.222769  1643.774302       19.132887    53.500262      3.844826   \n",
       "std      76.777549  1741.197050       18.751395    78.445804      6.946296   \n",
       "min       0.000000     0.000000        1.000000     0.000000      0.000000   \n",
       "25%      16.000000   289.000000        9.000000     0.000000      0.000000   \n",
       "50%      36.000000   961.000000       16.000000    36.000000      1.000000   \n",
       "75%     121.000000  2601.000000       25.000000    81.000000      4.000000   \n",
       "max     441.000000  9409.000000      169.000000   441.000000     81.000000   \n",
       "\n",
       "       SQBovercrowding  SQBdependency    SQBmeaned        agesq       Target  \n",
       "count      9557.000000    9557.000000  9552.000000  9557.000000  9557.000000  \n",
       "mean          3.249485       3.900409   102.588867  1643.774302     3.302292  \n",
       "std           4.129547      12.511831    93.516890  1741.197050     1.009565  \n",
       "min           0.040000       0.000000     0.000000     0.000000     1.000000  \n",
       "25%           1.000000       0.111111    36.000000   289.000000     3.000000  \n",
       "50%           2.250000       0.444444    81.000000   961.000000     4.000000  \n",
       "75%           4.000000       1.777778   134.560010  2601.000000     4.000000  \n",
       "max          36.000000      64.000000  1369.000000  9409.000000     4.000000  \n",
       "\n",
       "[8 rows x 138 columns]"
      ]
     },
     "execution_count": 5,
     "metadata": {},
     "output_type": "execute_result"
    }
   ],
   "source": [
    "train.describe()"
   ]
  },
  {
   "cell_type": "code",
   "execution_count": 6,
   "metadata": {
    "execution": {
     "iopub.execute_input": "2020-10-30T14:55:48.970801Z",
     "iopub.status.busy": "2020-10-30T14:55:48.970077Z",
     "iopub.status.idle": "2020-10-30T14:55:48.985954Z",
     "shell.execute_reply": "2020-10-30T14:55:48.985300Z"
    },
    "papermill": {
     "duration": 0.057749,
     "end_time": "2020-10-30T14:55:48.986080",
     "exception": false,
     "start_time": "2020-10-30T14:55:48.928331",
     "status": "completed"
    },
    "tags": []
   },
   "outputs": [
    {
     "data": {
      "text/plain": [
       "rez_esc      7928\n",
       "v18q1        7342\n",
       "v2a1         6860\n",
       "meaneduc        5\n",
       "SQBmeaned       5\n",
       "dtype: int64"
      ]
     },
     "execution_count": 6,
     "metadata": {},
     "output_type": "execute_result"
    }
   ],
   "source": [
    "train.isnull().sum().sort_values(ascending=False).head()"
   ]
  },
  {
   "cell_type": "code",
   "execution_count": 7,
   "metadata": {
    "execution": {
     "iopub.execute_input": "2020-10-30T14:55:49.058586Z",
     "iopub.status.busy": "2020-10-30T14:55:49.057811Z",
     "iopub.status.idle": "2020-10-30T14:55:49.084977Z",
     "shell.execute_reply": "2020-10-30T14:55:49.084300Z"
    },
    "papermill": {
     "duration": 0.065858,
     "end_time": "2020-10-30T14:55:49.085102",
     "exception": false,
     "start_time": "2020-10-30T14:55:49.019244",
     "status": "completed"
    },
    "tags": []
   },
   "outputs": [
    {
     "data": {
      "text/plain": [
       "rez_esc      19653\n",
       "v18q1        18126\n",
       "v2a1         17403\n",
       "SQBmeaned       31\n",
       "meaneduc        31\n",
       "dtype: int64"
      ]
     },
     "execution_count": 7,
     "metadata": {},
     "output_type": "execute_result"
    }
   ],
   "source": [
    "test.isnull().sum().sort_values(ascending=False).head()"
   ]
  },
  {
   "cell_type": "code",
   "execution_count": 8,
   "metadata": {
    "execution": {
     "iopub.execute_input": "2020-10-30T14:55:49.161385Z",
     "iopub.status.busy": "2020-10-30T14:55:49.160559Z",
     "iopub.status.idle": "2020-10-30T14:55:49.189027Z",
     "shell.execute_reply": "2020-10-30T14:55:49.188290Z"
    },
    "papermill": {
     "duration": 0.070392,
     "end_time": "2020-10-30T14:55:49.189146",
     "exception": false,
     "start_time": "2020-10-30T14:55:49.118754",
     "status": "completed"
    },
    "tags": []
   },
   "outputs": [
    {
     "data": {
      "text/plain": [
       "hacdor             2\n",
       "rooms             11\n",
       "hacapo             2\n",
       "v14a               2\n",
       "refrig             2\n",
       "                  ..\n",
       "SQBhogar_total    13\n",
       "SQBedjefe         22\n",
       "SQBhogar_nin      10\n",
       "agesq             97\n",
       "Target             4\n",
       "Length: 130, dtype: int64"
      ]
     },
     "execution_count": 8,
     "metadata": {},
     "output_type": "execute_result"
    }
   ],
   "source": [
    "df=train.select_dtypes(np.int64).nunique()\n",
    "df"
   ]
  },
  {
   "cell_type": "code",
   "execution_count": 9,
   "metadata": {
    "execution": {
     "iopub.execute_input": "2020-10-30T14:55:49.264253Z",
     "iopub.status.busy": "2020-10-30T14:55:49.263207Z",
     "iopub.status.idle": "2020-10-30T14:55:49.266616Z",
     "shell.execute_reply": "2020-10-30T14:55:49.267200Z"
    },
    "papermill": {
     "duration": 0.044592,
     "end_time": "2020-10-30T14:55:49.267354",
     "exception": false,
     "start_time": "2020-10-30T14:55:49.222762",
     "status": "completed"
    },
    "tags": []
   },
   "outputs": [
    {
     "data": {
      "text/plain": [
       "2     101\n",
       "13      5\n",
       "97      3\n",
       "22      3\n",
       "11      3\n",
       "10      3\n",
       "9       3\n",
       "7       3\n",
       "6       2\n",
       "4       2\n",
       "14      1\n",
       "1       1\n",
       "dtype: int64"
      ]
     },
     "execution_count": 9,
     "metadata": {},
     "output_type": "execute_result"
    }
   ],
   "source": [
    "df.value_counts()"
   ]
  },
  {
   "cell_type": "code",
   "execution_count": 10,
   "metadata": {
    "execution": {
     "iopub.execute_input": "2020-10-30T14:55:49.351453Z",
     "iopub.status.busy": "2020-10-30T14:55:49.350385Z",
     "iopub.status.idle": "2020-10-30T14:55:49.354798Z",
     "shell.execute_reply": "2020-10-30T14:55:49.354090Z"
    },
    "papermill": {
     "duration": 0.053099,
     "end_time": "2020-10-30T14:55:49.354918",
     "exception": false,
     "start_time": "2020-10-30T14:55:49.301819",
     "status": "completed"
    },
    "tags": []
   },
   "outputs": [
    {
     "data": {
      "text/html": [
       "<div>\n",
       "<style scoped>\n",
       "    .dataframe tbody tr th:only-of-type {\n",
       "        vertical-align: middle;\n",
       "    }\n",
       "\n",
       "    .dataframe tbody tr th {\n",
       "        vertical-align: top;\n",
       "    }\n",
       "\n",
       "    .dataframe thead th {\n",
       "        text-align: right;\n",
       "    }\n",
       "</style>\n",
       "<table border=\"1\" class=\"dataframe\">\n",
       "  <thead>\n",
       "    <tr style=\"text-align: right;\">\n",
       "      <th></th>\n",
       "      <th>Id</th>\n",
       "      <th>idhogar</th>\n",
       "      <th>dependency</th>\n",
       "      <th>edjefe</th>\n",
       "      <th>edjefa</th>\n",
       "    </tr>\n",
       "  </thead>\n",
       "  <tbody>\n",
       "    <tr>\n",
       "      <th>0</th>\n",
       "      <td>ID_279628684</td>\n",
       "      <td>21eb7fcc1</td>\n",
       "      <td>no</td>\n",
       "      <td>10</td>\n",
       "      <td>no</td>\n",
       "    </tr>\n",
       "    <tr>\n",
       "      <th>1</th>\n",
       "      <td>ID_f29eb3ddd</td>\n",
       "      <td>0e5d7a658</td>\n",
       "      <td>8</td>\n",
       "      <td>12</td>\n",
       "      <td>no</td>\n",
       "    </tr>\n",
       "    <tr>\n",
       "      <th>2</th>\n",
       "      <td>ID_68de51c94</td>\n",
       "      <td>2c7317ea8</td>\n",
       "      <td>8</td>\n",
       "      <td>no</td>\n",
       "      <td>11</td>\n",
       "    </tr>\n",
       "    <tr>\n",
       "      <th>3</th>\n",
       "      <td>ID_d671db89c</td>\n",
       "      <td>2b58d945f</td>\n",
       "      <td>yes</td>\n",
       "      <td>11</td>\n",
       "      <td>no</td>\n",
       "    </tr>\n",
       "    <tr>\n",
       "      <th>4</th>\n",
       "      <td>ID_d56d6f5f5</td>\n",
       "      <td>2b58d945f</td>\n",
       "      <td>yes</td>\n",
       "      <td>11</td>\n",
       "      <td>no</td>\n",
       "    </tr>\n",
       "  </tbody>\n",
       "</table>\n",
       "</div>"
      ],
      "text/plain": [
       "             Id    idhogar dependency edjefe edjefa\n",
       "0  ID_279628684  21eb7fcc1         no     10     no\n",
       "1  ID_f29eb3ddd  0e5d7a658          8     12     no\n",
       "2  ID_68de51c94  2c7317ea8          8     no     11\n",
       "3  ID_d671db89c  2b58d945f        yes     11     no\n",
       "4  ID_d56d6f5f5  2b58d945f        yes     11     no"
      ]
     },
     "execution_count": 10,
     "metadata": {},
     "output_type": "execute_result"
    }
   ],
   "source": [
    "train.select_dtypes('object').head()"
   ]
  },
  {
   "cell_type": "code",
   "execution_count": 11,
   "metadata": {
    "execution": {
     "iopub.execute_input": "2020-10-30T14:55:49.446527Z",
     "iopub.status.busy": "2020-10-30T14:55:49.441689Z",
     "iopub.status.idle": "2020-10-30T14:55:49.494274Z",
     "shell.execute_reply": "2020-10-30T14:55:49.493480Z"
    },
    "papermill": {
     "duration": 0.104002,
     "end_time": "2020-10-30T14:55:49.494395",
     "exception": false,
     "start_time": "2020-10-30T14:55:49.390393",
     "status": "completed"
    },
    "tags": []
   },
   "outputs": [],
   "source": [
    "mapp = {\"yes\": 1, \"no\": 0}\n",
    "for d in [train, test]:    \n",
    "    d['dependency'] = d['dependency'].replace(mapp).astype(np.float64)\n",
    "    d['edjefa'] = d['edjefa'].replace(mapp).astype(np.float64)\n",
    "    d['edjefe'] = d['edjefe'].replace(mapp).astype(np.float64)"
   ]
  },
  {
   "cell_type": "code",
   "execution_count": 12,
   "metadata": {
    "execution": {
     "iopub.execute_input": "2020-10-30T14:55:49.572527Z",
     "iopub.status.busy": "2020-10-30T14:55:49.571776Z",
     "iopub.status.idle": "2020-10-30T14:55:49.582437Z",
     "shell.execute_reply": "2020-10-30T14:55:49.581852Z"
    },
    "papermill": {
     "duration": 0.051982,
     "end_time": "2020-10-30T14:55:49.582561",
     "exception": false,
     "start_time": "2020-10-30T14:55:49.530579",
     "status": "completed"
    },
    "tags": []
   },
   "outputs": [
    {
     "data": {
      "text/html": [
       "<div>\n",
       "<style scoped>\n",
       "    .dataframe tbody tr th:only-of-type {\n",
       "        vertical-align: middle;\n",
       "    }\n",
       "\n",
       "    .dataframe tbody tr th {\n",
       "        vertical-align: top;\n",
       "    }\n",
       "\n",
       "    .dataframe thead th {\n",
       "        text-align: right;\n",
       "    }\n",
       "</style>\n",
       "<table border=\"1\" class=\"dataframe\">\n",
       "  <thead>\n",
       "    <tr style=\"text-align: right;\">\n",
       "      <th></th>\n",
       "      <th>Id</th>\n",
       "      <th>idhogar</th>\n",
       "    </tr>\n",
       "  </thead>\n",
       "  <tbody>\n",
       "    <tr>\n",
       "      <th>0</th>\n",
       "      <td>ID_279628684</td>\n",
       "      <td>21eb7fcc1</td>\n",
       "    </tr>\n",
       "    <tr>\n",
       "      <th>1</th>\n",
       "      <td>ID_f29eb3ddd</td>\n",
       "      <td>0e5d7a658</td>\n",
       "    </tr>\n",
       "    <tr>\n",
       "      <th>2</th>\n",
       "      <td>ID_68de51c94</td>\n",
       "      <td>2c7317ea8</td>\n",
       "    </tr>\n",
       "    <tr>\n",
       "      <th>3</th>\n",
       "      <td>ID_d671db89c</td>\n",
       "      <td>2b58d945f</td>\n",
       "    </tr>\n",
       "    <tr>\n",
       "      <th>4</th>\n",
       "      <td>ID_d56d6f5f5</td>\n",
       "      <td>2b58d945f</td>\n",
       "    </tr>\n",
       "  </tbody>\n",
       "</table>\n",
       "</div>"
      ],
      "text/plain": [
       "             Id    idhogar\n",
       "0  ID_279628684  21eb7fcc1\n",
       "1  ID_f29eb3ddd  0e5d7a658\n",
       "2  ID_68de51c94  2c7317ea8\n",
       "3  ID_d671db89c  2b58d945f\n",
       "4  ID_d56d6f5f5  2b58d945f"
      ]
     },
     "execution_count": 12,
     "metadata": {},
     "output_type": "execute_result"
    }
   ],
   "source": [
    "train.select_dtypes('object').head()"
   ]
  },
  {
   "cell_type": "code",
   "execution_count": 13,
   "metadata": {
    "execution": {
     "iopub.execute_input": "2020-10-30T14:55:49.662079Z",
     "iopub.status.busy": "2020-10-30T14:55:49.661306Z",
     "iopub.status.idle": "2020-10-30T14:55:50.004297Z",
     "shell.execute_reply": "2020-10-30T14:55:50.003548Z"
    },
    "papermill": {
     "duration": 0.386083,
     "end_time": "2020-10-30T14:55:50.004418",
     "exception": false,
     "start_time": "2020-10-30T14:55:49.618335",
     "status": "completed"
    },
    "tags": []
   },
   "outputs": [
    {
     "data": {
      "text/html": [
       "<div>\n",
       "<style scoped>\n",
       "    .dataframe tbody tr th:only-of-type {\n",
       "        vertical-align: middle;\n",
       "    }\n",
       "\n",
       "    .dataframe tbody tr th {\n",
       "        vertical-align: top;\n",
       "    }\n",
       "\n",
       "    .dataframe thead th {\n",
       "        text-align: right;\n",
       "    }\n",
       "</style>\n",
       "<table border=\"1\" class=\"dataframe\">\n",
       "  <thead>\n",
       "    <tr style=\"text-align: right;\">\n",
       "      <th></th>\n",
       "      <th>Target</th>\n",
       "    </tr>\n",
       "  </thead>\n",
       "  <tbody>\n",
       "    <tr>\n",
       "      <th>7651</th>\n",
       "      <td>3</td>\n",
       "    </tr>\n",
       "    <tr>\n",
       "      <th>7652</th>\n",
       "      <td>2</td>\n",
       "    </tr>\n",
       "    <tr>\n",
       "      <th>7653</th>\n",
       "      <td>3</td>\n",
       "    </tr>\n",
       "    <tr>\n",
       "      <th>7654</th>\n",
       "      <td>3</td>\n",
       "    </tr>\n",
       "    <tr>\n",
       "      <th>7655</th>\n",
       "      <td>2</td>\n",
       "    </tr>\n",
       "  </tbody>\n",
       "</table>\n",
       "</div>"
      ],
      "text/plain": [
       "      Target\n",
       "7651       3\n",
       "7652       2\n",
       "7653       3\n",
       "7654       3\n",
       "7655       2"
      ]
     },
     "execution_count": 13,
     "metadata": {},
     "output_type": "execute_result"
    }
   ],
   "source": [
    "all_equal = train.groupby('idhogar')['Target'].apply(lambda x: x.nunique() == 1)\n",
    "not_equal = all_equal[all_equal != True]\n",
    "train[train['idhogar'] == not_equal.index[0]][['Target']]"
   ]
  },
  {
   "cell_type": "code",
   "execution_count": 14,
   "metadata": {
    "execution": {
     "iopub.execute_input": "2020-10-30T14:55:50.092116Z",
     "iopub.status.busy": "2020-10-30T14:55:50.089678Z",
     "iopub.status.idle": "2020-10-30T14:55:50.145327Z",
     "shell.execute_reply": "2020-10-30T14:55:50.144660Z"
    },
    "papermill": {
     "duration": 0.103851,
     "end_time": "2020-10-30T14:55:50.145463",
     "exception": false,
     "start_time": "2020-10-30T14:55:50.041612",
     "status": "completed"
    },
    "tags": []
   },
   "outputs": [],
   "source": [
    "test['Target'] = np.nan\n",
    "data = train.append(test, ignore_index = True)"
   ]
  },
  {
   "cell_type": "code",
   "execution_count": 15,
   "metadata": {
    "execution": {
     "iopub.execute_input": "2020-10-30T14:55:50.228920Z",
     "iopub.status.busy": "2020-10-30T14:55:50.228125Z",
     "iopub.status.idle": "2020-10-30T14:55:50.251547Z",
     "shell.execute_reply": "2020-10-30T14:55:50.250973Z"
    },
    "papermill": {
     "duration": 0.069297,
     "end_time": "2020-10-30T14:55:50.251680",
     "exception": false,
     "start_time": "2020-10-30T14:55:50.182383",
     "status": "completed"
    },
    "tags": []
   },
   "outputs": [
    {
     "data": {
      "text/plain": [
       "array(['v2a1', 'v18q1', 'rez_esc', 'meaneduc', 'SQBmeaned'], dtype=object)"
      ]
     },
     "execution_count": 15,
     "metadata": {},
     "output_type": "execute_result"
    }
   ],
   "source": [
    "missing_col = data.columns[data.isnull().sum()>0].values\n",
    "missing_col=missing_col[:-1]\n",
    "missing_col"
   ]
  },
  {
   "cell_type": "code",
   "execution_count": 16,
   "metadata": {
    "execution": {
     "iopub.execute_input": "2020-10-30T14:55:50.333138Z",
     "iopub.status.busy": "2020-10-30T14:55:50.332390Z",
     "iopub.status.idle": "2020-10-30T14:55:51.394205Z",
     "shell.execute_reply": "2020-10-30T14:55:51.393419Z"
    },
    "papermill": {
     "duration": 1.105017,
     "end_time": "2020-10-30T14:55:51.394332",
     "exception": false,
     "start_time": "2020-10-30T14:55:50.289315",
     "status": "completed"
    },
    "tags": []
   },
   "outputs": [
    {
     "data": {
      "text/plain": [
       "array([[<matplotlib.axes._subplots.AxesSubplot object at 0x7f16b550eb50>,\n",
       "        <matplotlib.axes._subplots.AxesSubplot object at 0x7f16b5b36350>],\n",
       "       [<matplotlib.axes._subplots.AxesSubplot object at 0x7f16b74c39d0>,\n",
       "        <matplotlib.axes._subplots.AxesSubplot object at 0x7f16b5ad7b90>],\n",
       "       [<matplotlib.axes._subplots.AxesSubplot object at 0x7f16b5aa2710>,\n",
       "        <matplotlib.axes._subplots.AxesSubplot object at 0x7f16b5a59d90>]],\n",
       "      dtype=object)"
      ]
     },
     "execution_count": 16,
     "metadata": {},
     "output_type": "execute_result"
    },
    {
     "data": {
      "image/png": "[encoded data removed]",
      "text/plain": [
       "<Figure size 1440x720 with 6 Axes>"
      ]
     },
     "metadata": {
      "needs_background": "light"
     },
     "output_type": "display_data"
    }
   ],
   "source": [
    "data[missing_col].hist(figsize=(20,10))"
   ]
  },
  {
   "cell_type": "code",
   "execution_count": 17,
   "metadata": {
    "execution": {
     "iopub.execute_input": "2020-10-30T14:55:51.479567Z",
     "iopub.status.busy": "2020-10-30T14:55:51.478662Z",
     "iopub.status.idle": "2020-10-30T14:55:51.483558Z",
     "shell.execute_reply": "2020-10-30T14:55:51.482811Z"
    },
    "papermill": {
     "duration": 0.04968,
     "end_time": "2020-10-30T14:55:51.483681",
     "exception": false,
     "start_time": "2020-10-30T14:55:51.434001",
     "status": "completed"
    },
    "tags": []
   },
   "outputs": [],
   "source": [
    "data['v18q1'] = data['v18q1'].fillna(0)\n",
    "data['v2a1'] = data['v2a1'].fillna(0)\n"
   ]
  },
  {
   "cell_type": "code",
   "execution_count": 18,
   "metadata": {
    "execution": {
     "iopub.execute_input": "2020-10-30T14:55:51.569843Z",
     "iopub.status.busy": "2020-10-30T14:55:51.569094Z",
     "iopub.status.idle": "2020-10-30T14:55:51.574617Z",
     "shell.execute_reply": "2020-10-30T14:55:51.574044Z"
    },
    "papermill": {
     "duration": 0.050958,
     "end_time": "2020-10-30T14:55:51.574766",
     "exception": false,
     "start_time": "2020-10-30T14:55:51.523808",
     "status": "completed"
    },
    "tags": []
   },
   "outputs": [],
   "source": [
    "data.loc[data['rez_esc'] > 5, 'rez_esc'] = 5\n",
    "data['rez_esc']=data['rez_esc'].fillna(0)"
   ]
  },
  {
   "cell_type": "code",
   "execution_count": 19,
   "metadata": {
    "execution": {
     "iopub.execute_input": "2020-10-30T14:55:51.663228Z",
     "iopub.status.busy": "2020-10-30T14:55:51.662068Z",
     "iopub.status.idle": "2020-10-30T14:55:51.666589Z",
     "shell.execute_reply": "2020-10-30T14:55:51.667139Z"
    },
    "papermill": {
     "duration": 0.052391,
     "end_time": "2020-10-30T14:55:51.667294",
     "exception": false,
     "start_time": "2020-10-30T14:55:51.614903",
     "status": "completed"
    },
    "tags": []
   },
   "outputs": [],
   "source": [
    "data['SQBmeaned']=data['SQBmeaned'].fillna(data['SQBmeaned'].mean())\n",
    "data['meaneduc']=data['meaneduc'].fillna(data['meaneduc'].mean())"
   ]
  },
  {
   "cell_type": "code",
   "execution_count": 20,
   "metadata": {
    "execution": {
     "iopub.execute_input": "2020-10-30T14:55:51.752681Z",
     "iopub.status.busy": "2020-10-30T14:55:51.751926Z",
     "iopub.status.idle": "2020-10-30T14:55:53.578602Z",
     "shell.execute_reply": "2020-10-30T14:55:53.577828Z"
    },
    "papermill": {
     "duration": 1.871579,
     "end_time": "2020-10-30T14:55:53.578748",
     "exception": false,
     "start_time": "2020-10-30T14:55:51.707169",
     "status": "completed"
    },
    "tags": []
   },
   "outputs": [],
   "source": [
    "from sklearn.model_selection import train_test_split\n",
    "from sklearn.metrics import f1_score\n",
    "from xgboost import XGBClassifier as xgb"
   ]
  },
  {
   "cell_type": "code",
   "execution_count": 21,
   "metadata": {
    "execution": {
     "iopub.execute_input": "2020-10-30T14:55:53.669066Z",
     "iopub.status.busy": "2020-10-30T14:55:53.667897Z",
     "iopub.status.idle": "2020-10-30T14:55:53.724072Z",
     "shell.execute_reply": "2020-10-30T14:55:53.723362Z"
    },
    "papermill": {
     "duration": 0.105339,
     "end_time": "2020-10-30T14:55:53.724193",
     "exception": false,
     "start_time": "2020-10-30T14:55:53.618854",
     "status": "completed"
    },
    "tags": []
   },
   "outputs": [],
   "source": [
    "train_labels = np.array(list(data[data['Target'].notnull()]['Target'].astype(np.uint8)))\n",
    "\n",
    "train_set = data[data['Target'].notnull()].drop(columns = ['Id', 'idhogar', 'Target'])\n",
    "test_set = data[data['Target'].isnull()].drop(columns = ['Id', 'idhogar', 'Target'])\n",
    "\n",
    "\n"
   ]
  },
  {
   "cell_type": "code",
   "execution_count": 22,
   "metadata": {
    "execution": {
     "iopub.execute_input": "2020-10-30T14:55:53.811872Z",
     "iopub.status.busy": "2020-10-30T14:55:53.810910Z",
     "iopub.status.idle": "2020-10-30T14:55:53.815499Z",
     "shell.execute_reply": "2020-10-30T14:55:53.814789Z"
    },
    "papermill": {
     "duration": 0.050134,
     "end_time": "2020-10-30T14:55:53.815619",
     "exception": false,
     "start_time": "2020-10-30T14:55:53.765485",
     "status": "completed"
    },
    "tags": []
   },
   "outputs": [
    {
     "data": {
      "text/plain": [
       "140"
      ]
     },
     "execution_count": 22,
     "metadata": {},
     "output_type": "execute_result"
    }
   ],
   "source": [
    "features = [c for c in train_set.columns]\n",
    "len(features)"
   ]
  },
  {
   "cell_type": "code",
   "execution_count": 23,
   "metadata": {
    "execution": {
     "iopub.execute_input": "2020-10-30T14:55:53.903775Z",
     "iopub.status.busy": "2020-10-30T14:55:53.902662Z",
     "iopub.status.idle": "2020-10-30T14:55:53.920544Z",
     "shell.execute_reply": "2020-10-30T14:55:53.919965Z"
    },
    "papermill": {
     "duration": 0.064049,
     "end_time": "2020-10-30T14:55:53.920667",
     "exception": false,
     "start_time": "2020-10-30T14:55:53.856618",
     "status": "completed"
    },
    "tags": []
   },
   "outputs": [
    {
     "data": {
      "text/plain": [
       "agesq          0\n",
       "abastaguano    0\n",
       "sanitario2     0\n",
       "sanitario1     0\n",
       "coopele        0\n",
       "dtype: int64"
      ]
     },
     "execution_count": 23,
     "metadata": {},
     "output_type": "execute_result"
    }
   ],
   "source": [
    "test_set.isnull().sum().sort_values(ascending=False).head()"
   ]
  },
  {
   "cell_type": "code",
   "execution_count": 24,
   "metadata": {
    "execution": {
     "iopub.execute_input": "2020-10-30T14:55:54.018243Z",
     "iopub.status.busy": "2020-10-30T14:55:54.017049Z",
     "iopub.status.idle": "2020-10-30T14:56:01.446606Z",
     "shell.execute_reply": "2020-10-30T14:56:01.447316Z"
    },
    "papermill": {
     "duration": 7.485088,
     "end_time": "2020-10-30T14:56:01.447505",
     "exception": false,
     "start_time": "2020-10-30T14:55:53.962417",
     "status": "completed"
    },
    "tags": []
   },
   "outputs": [
    {
     "name": "stdout",
     "output_type": "stream",
     "text": [
      "Macro f1 score is 0.8773495572681598 using model XGBClassifier(base_score=0.5, booster='gbtree', colsample_bylevel=1,\n",
      "              colsample_bynode=1, colsample_bytree=1, gamma=0, gpu_id=-1,\n",
      "              importance_type='gain', interaction_constraints='',\n",
      "              learning_rate=0.300000012, max_delta_step=0, max_depth=6,\n",
      "              min_child_weight=1, missing=nan, monotone_constraints='()',\n",
      "              n_estimators=100, n_jobs=0, num_parallel_tree=1,\n",
      "              objective='multi:softprob', random_state=0, reg_alpha=0,\n",
      "              reg_lambda=1, scale_pos_weight=None, subsample=1,\n",
      "              tree_method='exact', validate_parameters=1, verbosity=None)\n"
     ]
    }
   ],
   "source": [
    "\n",
    "model=xgb()\n",
    "X_train, X_valid, y_train, y_valid = train_test_split(train_set[features], train_labels, test_size=0.2, random_state=1)\n",
    "model.fit(X_train, y_train)\n",
    "y_pred = model.predict(X_valid)\n",
    "macro_f1 = f1_score(y_valid, y_pred, average='macro')\n",
    "print('Macro f1 score is {} using model {}'.format(macro_f1, model))"
   ]
  },
  {
   "cell_type": "code",
   "execution_count": 25,
   "metadata": {
    "execution": {
     "iopub.execute_input": "2020-10-30T14:56:01.554282Z",
     "iopub.status.busy": "2020-10-30T14:56:01.553177Z",
     "iopub.status.idle": "2020-10-30T14:56:01.555648Z",
     "shell.execute_reply": "2020-10-30T14:56:01.556475Z"
    },
    "papermill": {
     "duration": 0.058626,
     "end_time": "2020-10-30T14:56:01.556646",
     "exception": false,
     "start_time": "2020-10-30T14:56:01.498020",
     "status": "completed"
    },
    "tags": []
   },
   "outputs": [],
   "source": [
    "#print(type(train['Target'].values),type(train['Target']))"
   ]
  },
  {
   "cell_type": "code",
   "execution_count": 26,
   "metadata": {
    "_kg_hide-input": true,
    "execution": {
     "iopub.execute_input": "2020-10-30T14:56:01.659034Z",
     "iopub.status.busy": "2020-10-30T14:56:01.657971Z",
     "iopub.status.idle": "2020-10-30T14:56:01.660673Z",
     "shell.execute_reply": "2020-10-30T14:56:01.661231Z"
    },
    "papermill": {
     "duration": 0.054171,
     "end_time": "2020-10-30T14:56:01.661385",
     "exception": false,
     "start_time": "2020-10-30T14:56:01.607214",
     "status": "completed"
    },
    "tags": []
   },
   "outputs": [],
   "source": [
    "#target=train['Target'].values\n",
    "#target_index = {1:0, 2:1, 3:2, 4:3}\n",
    "#target = np.array([target_index[c] for c in target])"
   ]
  },
  {
   "cell_type": "code",
   "execution_count": 27,
   "metadata": {
    "execution": {
     "iopub.execute_input": "2020-10-30T14:56:01.750791Z",
     "iopub.status.busy": "2020-10-30T14:56:01.749838Z",
     "iopub.status.idle": "2020-10-30T14:56:01.752134Z",
     "shell.execute_reply": "2020-10-30T14:56:01.752706Z"
    },
    "papermill": {
     "duration": 0.049124,
     "end_time": "2020-10-30T14:56:01.752872",
     "exception": false,
     "start_time": "2020-10-30T14:56:01.703748",
     "status": "completed"
    },
    "tags": []
   },
   "outputs": [],
   "source": [
    "#features = [c for c in train.columns if c not in ['Id', 'Target']]\n",
    "#len(features)"
   ]
  },
  {
   "cell_type": "code",
   "execution_count": 28,
   "metadata": {
    "execution": {
     "iopub.execute_input": "2020-10-30T14:56:01.843926Z",
     "iopub.status.busy": "2020-10-30T14:56:01.843076Z",
     "iopub.status.idle": "2020-10-30T14:56:01.846228Z",
     "shell.execute_reply": "2020-10-30T14:56:01.845575Z"
    },
    "papermill": {
     "duration": 0.050259,
     "end_time": "2020-10-30T14:56:01.846349",
     "exception": false,
     "start_time": "2020-10-30T14:56:01.796090",
     "status": "completed"
    },
    "tags": []
   },
   "outputs": [],
   "source": [
    "#from sklearn.model_selection import train_test_split\n",
    "#from sklearn.preprocessing import LabelEncoder\n",
    "#import lightgbm as lgb\n",
    "#def label_encoding(col):\n",
    "#    le = LabelEncoder()\n",
    "#    le.fit(list(train[col].values) + list(test[col].values))\n",
    "#    train[col] = le.transform(train[col].astype(str))\n",
    "#    test[col] = le.transform(test[col].astype(str))\n",
    "\n",
    "#num_cols = train._get_numeric_data().columns\n",
    "#cat_cols = list(set(features) - set(num_cols))\n",
    "#for col in cat_cols:\n",
    "#    label_encoding(col)"
   ]
  },
  {
   "cell_type": "code",
   "execution_count": 29,
   "metadata": {
    "execution": {
     "iopub.execute_input": "2020-10-30T14:56:01.937385Z",
     "iopub.status.busy": "2020-10-30T14:56:01.936461Z",
     "iopub.status.idle": "2020-10-30T14:56:01.939805Z",
     "shell.execute_reply": "2020-10-30T14:56:01.939061Z"
    },
    "papermill": {
     "duration": 0.050653,
     "end_time": "2020-10-30T14:56:01.939925",
     "exception": false,
     "start_time": "2020-10-30T14:56:01.889272",
     "status": "completed"
    },
    "tags": []
   },
   "outputs": [],
   "source": [
    "#X_train, X_valid, y_train, y_valid = train_test_split(train[features].values, target, test_size=0.2, random_state=1)\n",
    "#lgb_train = lgb.Dataset(X_train, y_train)\n",
    "#lgb_valid = lgb.Dataset(X_valid, y_valid)"
   ]
  },
  {
   "cell_type": "code",
   "execution_count": 30,
   "metadata": {
    "execution": {
     "iopub.execute_input": "2020-10-30T14:56:02.032037Z",
     "iopub.status.busy": "2020-10-30T14:56:02.031103Z",
     "iopub.status.idle": "2020-10-30T14:56:02.034003Z",
     "shell.execute_reply": "2020-10-30T14:56:02.033389Z"
    },
    "papermill": {
     "duration": 0.051029,
     "end_time": "2020-10-30T14:56:02.034123",
     "exception": false,
     "start_time": "2020-10-30T14:56:01.983094",
     "status": "completed"
    },
    "tags": []
   },
   "outputs": [],
   "source": [
    "#params = {'boosting_type': 'gbdt', 'objective': 'multiclass', 'metric': 'multi_logloss',\n",
    " #         'num_class': 4, 'max_depth': 44, 'num_leaves': 36, 'learning_rate': 0.01,\n",
    "  #        'feature_fraction': 0.8, 'bagging_fraction': 0.8, 'bagging_freq': 5,\n",
    "   #       'lambda_l2': 1.0, 'verbose': -1, 'num_threads': -1 }\n",
    "\n",
    "#model = lgb.train(params, lgb_train, num_boost_round=100,  valid_sets=[lgb_train, lgb_valid], \n",
    " #                 early_stopping_rounds=20000, verbose_eval=1000)"
   ]
  },
  {
   "cell_type": "code",
   "execution_count": 31,
   "metadata": {
    "execution": {
     "iopub.execute_input": "2020-10-30T14:56:02.142041Z",
     "iopub.status.busy": "2020-10-30T14:56:02.141265Z",
     "iopub.status.idle": "2020-10-30T14:56:02.493335Z",
     "shell.execute_reply": "2020-10-30T14:56:02.492140Z"
    },
    "papermill": {
     "duration": 0.41613,
     "end_time": "2020-10-30T14:56:02.493530",
     "exception": false,
     "start_time": "2020-10-30T14:56:02.077400",
     "status": "completed"
    },
    "tags": []
   },
   "outputs": [],
   "source": [
    "preds = model.predict(test_set[features])"
   ]
  },
  {
   "cell_type": "code",
   "execution_count": 32,
   "metadata": {
    "execution": {
     "iopub.execute_input": "2020-10-30T14:56:02.635627Z",
     "iopub.status.busy": "2020-10-30T14:56:02.634634Z",
     "iopub.status.idle": "2020-10-30T14:56:02.638288Z",
     "shell.execute_reply": "2020-10-30T14:56:02.638959Z"
    },
    "papermill": {
     "duration": 0.081468,
     "end_time": "2020-10-30T14:56:02.639126",
     "exception": false,
     "start_time": "2020-10-30T14:56:02.557658",
     "status": "completed"
    },
    "tags": []
   },
   "outputs": [
    {
     "data": {
      "text/plain": [
       "23856"
      ]
     },
     "execution_count": 32,
     "metadata": {},
     "output_type": "execute_result"
    }
   ],
   "source": [
    "len(preds)"
   ]
  },
  {
   "cell_type": "code",
   "execution_count": 33,
   "metadata": {
    "execution": {
     "iopub.execute_input": "2020-10-30T14:56:02.742044Z",
     "iopub.status.busy": "2020-10-30T14:56:02.741027Z",
     "iopub.status.idle": "2020-10-30T14:56:02.744226Z",
     "shell.execute_reply": "2020-10-30T14:56:02.743612Z"
    },
    "papermill": {
     "duration": 0.050875,
     "end_time": "2020-10-30T14:56:02.744339",
     "exception": false,
     "start_time": "2020-10-30T14:56:02.693464",
     "status": "completed"
    },
    "tags": []
   },
   "outputs": [],
   "source": [
    "#reverse_index = {}\n",
    "#for k,v in target_index.items():\n",
    " #   reverse_index[v] = k"
   ]
  },
  {
   "cell_type": "code",
   "execution_count": 34,
   "metadata": {
    "execution": {
     "iopub.execute_input": "2020-10-30T14:56:02.837693Z",
     "iopub.status.busy": "2020-10-30T14:56:02.836688Z",
     "iopub.status.idle": "2020-10-30T14:56:02.839408Z",
     "shell.execute_reply": "2020-10-30T14:56:02.839949Z"
    },
    "papermill": {
     "duration": 0.05116,
     "end_time": "2020-10-30T14:56:02.840098",
     "exception": false,
     "start_time": "2020-10-30T14:56:02.788938",
     "status": "completed"
    },
    "tags": []
   },
   "outputs": [],
   "source": [
    "#reverse_index"
   ]
  },
  {
   "cell_type": "code",
   "execution_count": 35,
   "metadata": {
    "execution": {
     "iopub.execute_input": "2020-10-30T14:56:02.933170Z",
     "iopub.status.busy": "2020-10-30T14:56:02.932232Z",
     "iopub.status.idle": "2020-10-30T14:56:02.935336Z",
     "shell.execute_reply": "2020-10-30T14:56:02.934737Z"
    },
    "papermill": {
     "duration": 0.051282,
     "end_time": "2020-10-30T14:56:02.935481",
     "exception": false,
     "start_time": "2020-10-30T14:56:02.884199",
     "status": "completed"
    },
    "tags": []
   },
   "outputs": [],
   "source": [
    "#pred=[]\n",
    "#for p in preds:\n",
    "#    pred.append(reverse_index[np.argmax(p)])\n",
    "#len(pred)"
   ]
  },
  {
   "cell_type": "code",
   "execution_count": 36,
   "metadata": {
    "execution": {
     "iopub.execute_input": "2020-10-30T14:56:03.037551Z",
     "iopub.status.busy": "2020-10-30T14:56:03.036669Z",
     "iopub.status.idle": "2020-10-30T14:56:03.330843Z",
     "shell.execute_reply": "2020-10-30T14:56:03.330066Z"
    },
    "papermill": {
     "duration": 0.350763,
     "end_time": "2020-10-30T14:56:03.330969",
     "exception": false,
     "start_time": "2020-10-30T14:56:02.980206",
     "status": "completed"
    },
    "tags": []
   },
   "outputs": [],
   "source": [
    "subm = pd.DataFrame()\n",
    "subm['Id'] = test['Id']\n",
    "subm['Target'] = preds\n",
    "subm.to_csv('submission.csv', index=False)"
   ]
  },
  {
   "cell_type": "code",
   "execution_count": 37,
   "metadata": {
    "execution": {
     "iopub.execute_input": "2020-10-30T14:56:03.432927Z",
     "iopub.status.busy": "2020-10-30T14:56:03.432141Z",
     "iopub.status.idle": "2020-10-30T14:56:03.440084Z",
     "shell.execute_reply": "2020-10-30T14:56:03.439505Z"
    },
    "papermill": {
     "duration": 0.064848,
     "end_time": "2020-10-30T14:56:03.440204",
     "exception": false,
     "start_time": "2020-10-30T14:56:03.375356",
     "status": "completed"
    },
    "tags": []
   },
   "outputs": [
    {
     "data": {
      "text/plain": [
       "4    17699\n",
       "2     3416\n",
       "3     1720\n",
       "1     1021\n",
       "Name: Target, dtype: int64"
      ]
     },
     "execution_count": 37,
     "metadata": {},
     "output_type": "execute_result"
    }
   ],
   "source": [
    "subm['Target'].value_counts()"
   ]
  },
  {
   "cell_type": "code",
   "execution_count": null,
   "metadata": {
    "papermill": {
     "duration": 0.045265,
     "end_time": "2020-10-30T14:56:03.530602",
     "exception": false,
     "start_time": "2020-10-30T14:56:03.485337",
     "status": "completed"
    },
    "tags": []
   },
   "outputs": [],
   "source": []
  }
 ],
 "metadata": {
  "kernelspec": {
   "display_name": "Python 3",
   "language": "python",
   "name": "python3"
  },
  "language_info": {
   "codemirror_mode": {
    "name": "ipython",
    "version": 3
   },
   "file_extension": ".py",
   "mimetype": "text/x-python",
   "name": "python",
   "nbconvert_exporter": "python",
   "pygments_lexer": "ipython3",
   "version": "3.7.6"
  },
  "papermill": {
   "duration": 20.868875,
   "end_time": "2020-10-30T14:56:03.684658",
   "environment_variables": {},
   "exception": null,
   "input_path": "__notebook__.ipynb",
   "output_path": "__notebook__.ipynb",
   "parameters": {},
   "start_time": "2020-10-30T14:55:42.815783",
   "version": "2.1.0"
  }
 },
 "nbformat": 4,
 "nbformat_minor": 4
}
